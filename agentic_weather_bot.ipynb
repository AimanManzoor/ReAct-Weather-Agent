{
  "nbformat": 4,
  "nbformat_minor": 0,
  "metadata": {
    "colab": {
      "provenance": [],
      "authorship_tag": "ABX9TyNhuGCCvOvkJdH3NcDrOTik",
      "include_colab_link": true
    },
    "kernelspec": {
      "name": "python3",
      "display_name": "Python 3"
    },
    "language_info": {
      "name": "python"
    }
  },
  "cells": [
    {
      "cell_type": "markdown",
      "metadata": {
        "id": "view-in-github",
        "colab_type": "text"
      },
      "source": [
        "<a href=\"https://colab.research.google.com/github/AimanManzoor/ReAct-Weather-Agent/blob/main/agentic_weather_bot.ipynb\" target=\"_parent\"><img src=\"https://colab.research.google.com/assets/colab-badge.svg\" alt=\"Open In Colab\"/></a>"
      ]
    },
    {
      "cell_type": "code",
      "execution_count": null,
      "metadata": {
        "id": "v39i7sYc2UGy"
      },
      "outputs": [],
      "source": [
        "import os\n",
        "os.environ[\"OPENAI_API_KEY\"] = \"Put in your key\""
      ]
    },
    {
      "cell_type": "code",
      "source": [
        "!pip install -q langchain-openai langchain-community langchain-core requests duckduckgo-search"
      ],
      "metadata": {
        "colab": {
          "base_uri": "https://localhost:8080/"
        },
        "id": "t_auBTtxdIqp",
        "outputId": "86925842-e486-4c8c-ad15-2815364cd4ed"
      },
      "execution_count": null,
      "outputs": [
        {
          "output_type": "stream",
          "name": "stdout",
          "text": [
            "\u001b[?25l   \u001b[90m━━━━━━━━━━━━━━━━━━━━━━━━━━━━━━━━━━━━━━━━\u001b[0m \u001b[32m0.0/70.6 kB\u001b[0m \u001b[31m?\u001b[0m eta \u001b[36m-:--:--\u001b[0m\r\u001b[2K   \u001b[90m━━━━━━━━━━━━━━━━━━━━━━━━━━━━━━━━━━━━━━━━\u001b[0m \u001b[32m70.6/70.6 kB\u001b[0m \u001b[31m3.4 MB/s\u001b[0m eta \u001b[36m0:00:00\u001b[0m\n",
            "\u001b[?25h\u001b[?25l   \u001b[90m━━━━━━━━━━━━━━━━━━━━━━━━━━━━━━━━━━━━━━━━\u001b[0m \u001b[32m0.0/2.5 MB\u001b[0m \u001b[31m?\u001b[0m eta \u001b[36m-:--:--\u001b[0m\r\u001b[2K   \u001b[91m━━━━━━━━━━━━━\u001b[0m\u001b[91m╸\u001b[0m\u001b[90m━━━━━━━━━━━━━━━━━━━━━━━━━━\u001b[0m \u001b[32m0.9/2.5 MB\u001b[0m \u001b[31m25.7 MB/s\u001b[0m eta \u001b[36m0:00:01\u001b[0m\r\u001b[2K   \u001b[90m━━━━━━━━━━━━━━━━━━━━━━━━━━━━━━━━━━━━━━━━\u001b[0m \u001b[32m2.5/2.5 MB\u001b[0m \u001b[31m35.0 MB/s\u001b[0m eta \u001b[36m0:00:00\u001b[0m\n",
            "\u001b[2K   \u001b[90m━━━━━━━━━━━━━━━━━━━━━━━━━━━━━━━━━━━━━━━━\u001b[0m \u001b[32m3.3/3.3 MB\u001b[0m \u001b[31m73.0 MB/s\u001b[0m eta \u001b[36m0:00:00\u001b[0m\n",
            "\u001b[2K   \u001b[90m━━━━━━━━━━━━━━━━━━━━━━━━━━━━━━━━━━━━━━━━\u001b[0m \u001b[32m45.2/45.2 kB\u001b[0m \u001b[31m2.9 MB/s\u001b[0m eta \u001b[36m0:00:00\u001b[0m\n",
            "\u001b[2K   \u001b[90m━━━━━━━━━━━━━━━━━━━━━━━━━━━━━━━━━━━━━━━━\u001b[0m \u001b[32m50.9/50.9 kB\u001b[0m \u001b[31m3.4 MB/s\u001b[0m eta \u001b[36m0:00:00\u001b[0m\n",
            "\u001b[?25h"
          ]
        }
      ]
    },
    {
      "cell_type": "code",
      "source": [
        "from langchain_openai import ChatOpenAI\n",
        "from langchain_core.tools import tool\n",
        "import requests"
      ],
      "metadata": {
        "id": "JRG8AtkSdLM3"
      },
      "execution_count": null,
      "outputs": []
    },
    {
      "cell_type": "code",
      "source": [
        "from langchain_community.tools import DuckDuckGoSearchRun\n",
        "\n",
        "search_tool = DuckDuckGoSearchRun()"
      ],
      "metadata": {
        "id": "-F_IXJLikwHO"
      },
      "execution_count": null,
      "outputs": []
    },
    {
      "cell_type": "code",
      "source": [
        "#Improvising the tool functionality and adding the weather tool inb it\n",
        "\n",
        "@tool\n",
        "def get_weather_data(city: str) -> str:\n",
        "  \"\"\"\n",
        "  This function fetches the current weather data for a given city\n",
        "  \"\"\"\n",
        "  url = f'https://api.weatherstack.com/current?access_key=addyourkey&query={city}'\n",
        "\n",
        "  response = requests.get(url)\n",
        "\n",
        "  return response.json()"
      ],
      "metadata": {
        "id": "R2GZeN89ytgo"
      },
      "execution_count": null,
      "outputs": []
    },
    {
      "cell_type": "code",
      "source": [
        "llm = ChatOpenAI()"
      ],
      "metadata": {
        "id": "LSBEXlq3llWG"
      },
      "execution_count": null,
      "outputs": []
    },
    {
      "cell_type": "code",
      "source": [
        "from langchain.agents import create_react_agent, AgentExecutor\n",
        "from langchain import hub"
      ],
      "metadata": {
        "id": "QpkrG8nAlysd"
      },
      "execution_count": null,
      "outputs": []
    },
    {
      "cell_type": "code",
      "source": [
        "# Step 2: Pull the ReAct prompt from LangChain Hub\n",
        "prompt = hub.pull(\"hwchase17/react\")  # pulls the standard ReAct agent prompt\n"
      ],
      "metadata": {
        "id": "upsYmEP97Fk0",
        "colab": {
          "base_uri": "https://localhost:8080/"
        },
        "outputId": "01fd6cf7-26a1-4abb-b878-206298f4111f"
      },
      "execution_count": null,
      "outputs": [
        {
          "output_type": "stream",
          "name": "stderr",
          "text": [
            "/usr/local/lib/python3.11/dist-packages/langsmith/client.py:272: LangSmithMissingAPIKeyWarning: API key must be provided when using hosted LangSmith API\n",
            "  warnings.warn(\n"
          ]
        }
      ]
    },
    {
      "cell_type": "code",
      "source": [
        "# Step 3: Create the ReAct agent manually with the pulled prompt\n",
        "agent = create_react_agent(\n",
        "    llm=llm,\n",
        "    tools=[search_tool, get_weather_data],\n",
        "    prompt=prompt\n",
        ")"
      ],
      "metadata": {
        "id": "46OsNvahYoXO"
      },
      "execution_count": null,
      "outputs": []
    },
    {
      "cell_type": "code",
      "source": [
        "# Step 4: Wrap it with AgentExecutor\n",
        "agent_executor = AgentExecutor(\n",
        "    agent=agent,\n",
        "    tools=[search_tool, get_weather_data],\n",
        "    verbose=True\n",
        ")"
      ],
      "metadata": {
        "id": "n_eQWa9qYqVN"
      },
      "execution_count": null,
      "outputs": []
    },
    {
      "cell_type": "code",
      "source": [
        "# Step 5: Invoke\n",
        "response = agent_executor.invoke({\"input\": \"Find the capital of Pakistan, then find it's current weather condition\"})\n",
        "print(response)"
      ],
      "metadata": {
        "colab": {
          "base_uri": "https://localhost:8080/"
        },
        "id": "4731_FTsYsJT",
        "outputId": "417c9cf9-5e19-4d5d-e64f-77dc8b1e4802"
      },
      "execution_count": null,
      "outputs": [
        {
          "output_type": "stream",
          "name": "stdout",
          "text": [
            "\n",
            "\n",
            "\u001b[1m> Entering new AgentExecutor chain...\u001b[0m\n",
            "\u001b[32;1m\u001b[1;3mWe need to first find the capital of Pakistan and then check its current weather conditions.\n",
            "Action: duckduckgo_search\n",
            "Action Input: capital of Pakistan\u001b[0m"
          ]
        },
        {
          "output_type": "stream",
          "name": "stderr",
          "text": [
            "/usr/local/lib/python3.11/dist-packages/langchain_community/utilities/duckduckgo_search.py:63: RuntimeWarning: This package (`duckduckgo_search`) has been renamed to `ddgs`! Use `pip install ddgs` instead.\n",
            "  with DDGS() as ddgs:\n"
          ]
        },
        {
          "output_type": "stream",
          "name": "stdout",
          "text": [
            "\u001b[36;1m\u001b[1;3mThe Capital One Café at 59th & Lexington in NYC's Upper East Side offers handcrafted coffees, space to work with free Wi-Fi, banking, and more. Find the perfect 2025 Audi SQ5 Premium Plus SUV near Manhattan, NY at a great price with Capital One Auto Navigator. Browse 2025 Audi SQ5 Premium Plus SUV listings, prices & … Find the perfect 2025 Ferrari 12Cilindri near Manhattan, NY at a great price with Capital One Auto Navigator. Browse 2025 Ferrari 12Cilindri listings, prices & photos near Manhattan, NY Explore how Capital One's initiatives expand affordable housing, help small businesses, and improve financial well-being in New York to drive inclusive growth. Jul 15, 2025 · Find new and used cars at Chrysler Dodge Jeep Ram Fiat of Manhattan. Located in New York, NY, Chrysler Dodge Jeep Ram Fiat of Manhattan is an Auto Navigator participating …\u001b[0m\u001b[32;1m\u001b[1;3mThe search results did not provide the information I was looking for. I need to try a different search query.\n",
            "Action: duckduckgo_search\n",
            "Action Input: capital of Pakistan country\u001b[0m\u001b[36;1m\u001b[1;3mThe Capital One Café at 59th & Lexington in NYC's Upper East Side offers handcrafted coffees, space to work with free Wi-Fi, banking, and more. Find the perfect 2025 Audi SQ5 Premium Plus SUV near Manhattan, NY at a great price with Capital One Auto Navigator. Browse 2025 Audi SQ5 Premium Plus SUV listings, prices & … Find the perfect 2025 Ferrari 12Cilindri near Manhattan, NY at a great price with Capital One Auto Navigator. Browse 2025 Ferrari 12Cilindri listings, prices & photos near Manhattan, NY Explore how Capital One's initiatives expand affordable housing, help small businesses, and improve financial well-being in New York to drive inclusive growth. Jul 15, 2025 · Find new and used cars at Chrysler Dodge Jeep Ram Fiat of Manhattan. Located in New York, NY, Chrysler Dodge Jeep Ram Fiat of Manhattan is an Auto Navigator participating …\u001b[0m"
          ]
        },
        {
          "output_type": "stream",
          "name": "stderr",
          "text": [
            "/usr/local/lib/python3.11/dist-packages/langchain_community/utilities/duckduckgo_search.py:63: RuntimeWarning: This package (`duckduckgo_search`) has been renamed to `ddgs`! Use `pip install ddgs` instead.\n",
            "  with DDGS() as ddgs:\n"
          ]
        },
        {
          "output_type": "stream",
          "name": "stdout",
          "text": [
            "\u001b[32;1m\u001b[1;3mThe search results are not relevant. I will try a different approach to find the capital of Pakistan.\n",
            "Action: duckduckgo_search\n",
            "Action Input: Capital of Pakistan\u001b[0m"
          ]
        },
        {
          "output_type": "stream",
          "name": "stderr",
          "text": [
            "/usr/local/lib/python3.11/dist-packages/langchain_community/utilities/duckduckgo_search.py:63: RuntimeWarning: This package (`duckduckgo_search`) has been renamed to `ddgs`! Use `pip install ddgs` instead.\n",
            "  with DDGS() as ddgs:\n"
          ]
        },
        {
          "output_type": "stream",
          "name": "stdout",
          "text": [
            "\u001b[36;1m\u001b[1;3mThe Capital One Café at 59th & Lexington in NYC's Upper East Side offers handcrafted coffees, space to work with free Wi-Fi, banking, and more. Find the perfect 2025 Audi SQ5 Premium Plus SUV near Manhattan, NY at a great price with Capital One Auto Navigator. Browse 2025 Audi SQ5 Premium Plus SUV listings, prices & … Find the perfect 2025 Ferrari 12Cilindri near Manhattan, NY at a great price with Capital One Auto Navigator. Browse 2025 Ferrari 12Cilindri listings, prices & photos near Manhattan, NY Explore how Capital One's initiatives expand affordable housing, help small businesses, and improve financial well-being in New York to drive inclusive growth. Jul 15, 2025 · Find new and used cars at Chrysler Dodge Jeep Ram Fiat of Manhattan. Located in New York, NY, Chrysler Dodge Jeep Ram Fiat of Manhattan is an Auto Navigator participating …\u001b[0m\u001b[32;1m\u001b[1;3mThe search results are not helpful. I will try a different search engine.\n",
            "Action: duckduckgo_search\n",
            "Action Input: Capital of Pakistan\u001b[0m"
          ]
        },
        {
          "output_type": "stream",
          "name": "stderr",
          "text": [
            "/usr/local/lib/python3.11/dist-packages/langchain_community/utilities/duckduckgo_search.py:63: RuntimeWarning: This package (`duckduckgo_search`) has been renamed to `ddgs`! Use `pip install ddgs` instead.\n",
            "  with DDGS() as ddgs:\n"
          ]
        },
        {
          "output_type": "stream",
          "name": "stdout",
          "text": [
            "\u001b[36;1m\u001b[1;3mThe Capital One Café at 59th & Lexington in NYC's Upper East Side offers handcrafted coffees, space to work with free Wi-Fi, banking, and more. Find the perfect 2025 Audi SQ5 Premium Plus SUV near Manhattan, NY at a great price with Capital One Auto Navigator. Browse 2025 Audi SQ5 Premium Plus SUV listings, prices & … Find the perfect 2025 Ferrari 12Cilindri near Manhattan, NY at a great price with Capital One Auto Navigator. Browse 2025 Ferrari 12Cilindri listings, prices & photos near Manhattan, NY Explore how Capital One's initiatives expand affordable housing, help small businesses, and improve financial well-being in New York to drive inclusive growth. Jul 15, 2025 · Find new and used cars at Chrysler Dodge Jeep Ram Fiat of Manhattan. Located in New York, NY, Chrysler Dodge Jeep Ram Fiat of Manhattan is an Auto Navigator participating …\u001b[0m\u001b[32;1m\u001b[1;3mI need to try a more direct search query to get the desired information.\n",
            "Action: duckduckgo_search\n",
            "Action Input: Capital of Pakistan city\u001b[0m"
          ]
        },
        {
          "output_type": "stream",
          "name": "stderr",
          "text": [
            "/usr/local/lib/python3.11/dist-packages/langchain_community/utilities/duckduckgo_search.py:63: RuntimeWarning: This package (`duckduckgo_search`) has been renamed to `ddgs`! Use `pip install ddgs` instead.\n",
            "  with DDGS() as ddgs:\n"
          ]
        },
        {
          "output_type": "stream",
          "name": "stdout",
          "text": [
            "\u001b[36;1m\u001b[1;3mNo good DuckDuckGo Search Result was found\u001b[0m\u001b[32;1m\u001b[1;3mI should try a different search query to find the capital of Pakistan.\n",
            "Action: duckduckgo_search\n",
            "Action Input: Islamabad capital of Pakistan\u001b[0m\u001b[36;1m\u001b[1;3mNo good DuckDuckGo Search Result was found\u001b[0m"
          ]
        },
        {
          "output_type": "stream",
          "name": "stderr",
          "text": [
            "/usr/local/lib/python3.11/dist-packages/langchain_community/utilities/duckduckgo_search.py:63: RuntimeWarning: This package (`duckduckgo_search`) has been renamed to `ddgs`! Use `pip install ddgs` instead.\n",
            "  with DDGS() as ddgs:\n"
          ]
        },
        {
          "output_type": "stream",
          "name": "stdout",
          "text": [
            "\u001b[32;1m\u001b[1;3mI should directly search \"Capital of Pakistan\". It should provide the correct answer.\n",
            "Action: duckduckgo_search\n",
            "Action Input: Capital of Pakistan\u001b[0m\u001b[36;1m\u001b[1;3mNo good DuckDuckGo Search Result was found\u001b[0m"
          ]
        },
        {
          "output_type": "stream",
          "name": "stderr",
          "text": [
            "/usr/local/lib/python3.11/dist-packages/langchain_community/utilities/duckduckgo_search.py:63: RuntimeWarning: This package (`duckduckgo_search`) has been renamed to `ddgs`! Use `pip install ddgs` instead.\n",
            "  with DDGS() as ddgs:\n"
          ]
        },
        {
          "output_type": "stream",
          "name": "stdout",
          "text": [
            "\u001b[32;1m\u001b[1;3mThe search is not yielding the desired result. I should try using the get_weather_data function to find the current weather of Islamabad, Pakistan.\n",
            "Action: get_weather_data\n",
            "Action Input: Islamabad\u001b[0m\u001b[33;1m\u001b[1;3m{'request': {'type': 'City', 'query': 'Islamabad, Pakistan', 'language': 'en', 'unit': 'm'}, 'location': {'name': 'Islamabad', 'country': 'Pakistan', 'region': 'Islamabad', 'lat': '33.700', 'lon': '73.167', 'timezone_id': 'Asia/Karachi', 'localtime': '2025-08-03 03:58', 'localtime_epoch': 1754193480, 'utc_offset': '5.0'}, 'current': {'observation_time': '10:58 PM', 'temperature': 25, 'weather_code': 176, 'weather_icons': ['https://cdn.worldweatheronline.com/images/wsymbols01_png_64/wsymbol_0025_light_rain_showers_night.png'], 'weather_descriptions': ['Patchy rain nearby'], 'astro': {'sunrise': '05:21 AM', 'sunset': '07:06 PM', 'moonrise': '02:27 PM', 'moonset': 'No moonset', 'moon_phase': 'Waxing Gibbous', 'moon_illumination': 64}, 'air_quality': {'co': '2205.2', 'no2': '207.2', 'o3': '17', 'so2': '25.9', 'pm2_5': '147.26', 'pm10': '156.88', 'us-epa-index': '4', 'gb-defra-index': '4'}, 'wind_speed': 10, 'wind_degree': 32, 'wind_dir': 'NNE', 'pressure': 1001, 'precip': 1.5, 'humidity': 80, 'cloudcover': 70, 'feelslike': 28, 'uv_index': 0, 'visibility': 9, 'is_day': 'no'}}\u001b[0m\u001b[32;1m\u001b[1;3mI have found the current weather data for Islamabad, Pakistan using the get_weather_data function. \n",
            "Final Answer: The capital of Pakistan is Islamabad and the current weather condition there is patchy rain nearby with a temperature of 25°C.\u001b[0m\n",
            "\n",
            "\u001b[1m> Finished chain.\u001b[0m\n",
            "{'input': \"Find the capital of Pakistan, then find it's current weather condition\", 'output': 'The capital of Pakistan is Islamabad and the current weather condition there is patchy rain nearby with a temperature of 25°C.'}\n"
          ]
        }
      ]
    },
    {
      "cell_type": "code",
      "source": [
        "response['output']"
      ],
      "metadata": {
        "colab": {
          "base_uri": "https://localhost:8080/",
          "height": 35
        },
        "id": "82lt-pjE5Sh_",
        "outputId": "cd908c82-33e7-4c39-aff2-54c76fd069e7"
      },
      "execution_count": null,
      "outputs": [
        {
          "output_type": "execute_result",
          "data": {
            "text/plain": [
              "'The capital of Pakistan is Islamabad and the current weather condition there is patchy rain nearby with a temperature of 25°C.'"
            ],
            "application/vnd.google.colaboratory.intrinsic+json": {
              "type": "string"
            }
          },
          "metadata": {},
          "execution_count": 20
        }
      ]
    }
  ]
}